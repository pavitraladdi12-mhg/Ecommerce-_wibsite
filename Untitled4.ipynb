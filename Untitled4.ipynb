{
  "nbformat": 4,
  "nbformat_minor": 0,
  "metadata": {
    "colab": {
      "provenance": [],
      "authorship_tag": "ABX9TyPyWVYVjDneBZ+uVKgZt00O",
      "include_colab_link": true
    },
    "kernelspec": {
      "name": "python3",
      "display_name": "Python 3"
    },
    "language_info": {
      "name": "python"
    }
  },
  "cells": [
    {
      "cell_type": "markdown",
      "metadata": {
        "id": "view-in-github",
        "colab_type": "text"
      },
      "source": [
        "<a href=\"https://colab.research.google.com/github/pavitraladdi12-mhg/Ecommerce-_wibsite/blob/main/Untitled4.ipynb\" target=\"_parent\"><img src=\"https://colab.research.google.com/assets/colab-badge.svg\" alt=\"Open In Colab\"/></a>"
      ]
    },
    {
      "cell_type": "code",
      "execution_count": 1,
      "metadata": {
        "colab": {
          "base_uri": "https://localhost:8080/"
        },
        "id": "IANJIHo5bPGd",
        "outputId": "2934c47a-df02-4d7a-d34c-a089a213d7f4"
      },
      "outputs": [
        {
          "output_type": "stream",
          "name": "stdout",
          "text": [
            "enter the namepavitra\n",
            "enter the age23\n",
            "hello pavitra you are 23 year old\n"
          ]
        }
      ],
      "source": [
        "#Take user name and age, then print: \"hello\"<name>, you are <age> year old.\n",
        "name=input(\"enter the name\")\n",
        "age = input(\"enter the age\")\n",
        "print(\"hello\",name,\"you are\",age,\"year old\")"
      ]
    },
    {
      "cell_type": "code",
      "source": [
        "# Take two number and print thire sum\n",
        "num1 = int(input(\"enter the first number: \"))\n",
        "num2 = int(input(\"enter the second number: \"))\n",
        "print(\"the sum is\",num1+num2)"
      ],
      "metadata": {
        "colab": {
          "base_uri": "https://localhost:8080/"
        },
        "id": "L6DJcGARb6Io",
        "outputId": "4aec842c-e433-499c-9c4a-7839134efc5e"
      },
      "execution_count": 3,
      "outputs": [
        {
          "output_type": "stream",
          "name": "stdout",
          "text": [
            "enter the first number: 20\n",
            "enter the second number: 50\n",
            "the sum is 70\n"
          ]
        }
      ]
    },
    {
      "cell_type": "code",
      "source": [
        "# Take two number and print the deffference\n",
        "num1=int(input(\"enter the first number: \"))\n",
        "num2=int(input(\"enter the second number: \"))\n",
        "deffference = num1 -num2\n",
        "print(\"the difference is\",deffference)"
      ],
      "metadata": {
        "colab": {
          "base_uri": "https://localhost:8080/"
        },
        "id": "VMDw2NQ7cOpZ",
        "outputId": "bc01a3ea-044a-440c-dca1-c35b71c8f294"
      },
      "execution_count": 4,
      "outputs": [
        {
          "output_type": "stream",
          "name": "stdout",
          "text": [
            "enter the first number: 30\n",
            "enter the second number: 20\n",
            "the difference is 10\n"
          ]
        }
      ]
    },
    {
      "cell_type": "code",
      "source": [
        "#Taken two num and print the product of two numbers\n",
        "num1=int(input(\"enter the first number: \"))\n",
        "num2=int(input(\"enter the second number: \"))\n",
        "product = num1*num2\n",
        "print(\"the product is\",product)"
      ],
      "metadata": {
        "colab": {
          "base_uri": "https://localhost:8080/"
        },
        "id": "3yja4q2scsmq",
        "outputId": "bcaa0dbd-4b75-41a7-c053-b71a782568d7"
      },
      "execution_count": 5,
      "outputs": [
        {
          "output_type": "stream",
          "name": "stdout",
          "text": [
            "enter the first number: 10\n",
            "enter the second number: 50\n",
            "the product is 500\n"
          ]
        }
      ]
    },
    {
      "cell_type": "code",
      "source": [
        "# Take Two num and print the division of two number\n",
        "num1=int(input(\"enter the first number: \"))\n",
        "num2=int(input(\"enter the second number: \"))\n",
        "division = num1/num2\n",
        "print(\"the division is\",division)"
      ],
      "metadata": {
        "colab": {
          "base_uri": "https://localhost:8080/"
        },
        "id": "cF6pgRKrc8Ty",
        "outputId": "4c7da01b-392f-4114-e10c-9348fc2c258a"
      },
      "execution_count": 6,
      "outputs": [
        {
          "output_type": "stream",
          "name": "stdout",
          "text": [
            "enter the first number: 60\n",
            "enter the second number: 30\n",
            "the division is 2.0\n"
          ]
        }
      ]
    },
    {
      "cell_type": "code",
      "source": [
        "# Take lenghth and bredth of rectanglur and print area\n",
        "Lenght = int(input( \" enter the lenght of the retangle:\"))\n",
        "bredth = int(input(\"enter the bredth of the retangle:\"))\n",
        "area = Lenght*bredth\n",
        "print(\"the area of the retangle is\",area)\n"
      ],
      "metadata": {
        "colab": {
          "base_uri": "https://localhost:8080/"
        },
        "id": "3xGBeLOcdSqn",
        "outputId": "eefeeb68-0c13-48d3-feb5-cfe1bd2e1014"
      },
      "execution_count": 7,
      "outputs": [
        {
          "output_type": "stream",
          "name": "stdout",
          "text": [
            " enter the lenght of the retangle:20\n",
            "enter the bredth of the retangle:10\n",
            "the area of the retangle is 200\n"
          ]
        }
      ]
    },
    {
      "cell_type": "code",
      "source": [
        "# Take base and height print the area of the triangle\n",
        "Base = float(input(\" Enter the base of the triangle in meters \"))\n",
        "Height = float(input(\"enter the height of the triangle in meters : \"))\n",
        "Area = 0.5*Height*Base\n",
        "print(\"The area of triangle in meter square :\", Area)"
      ],
      "metadata": {
        "colab": {
          "base_uri": "https://localhost:8080/"
        },
        "id": "WQXmYIqPeDQE",
        "outputId": "a9194b7f-b944-4fa0-e343-09dd9a0125fa"
      },
      "execution_count": 12,
      "outputs": [
        {
          "output_type": "stream",
          "name": "stdout",
          "text": [
            " Enter the base of the triangle in meters 10\n",
            "enter the height of the triangle in meters : 5\n",
            "The area of triangle in meter square : 25.0\n"
          ]
        }
      ]
    },
    {
      "cell_type": "code",
      "source": [
        "# Take the Radius of the circle and print the circumference of the circle\n",
        "Radius = float(input(\"Enter the Radius of the circle in meters: \"))\n",
        "Circumference = 2*3.14*Radius\n",
        "print(\"The circumference of the circle is; \", circumference)"
      ],
      "metadata": {
        "colab": {
          "base_uri": "https://localhost:8080/"
        },
        "id": "e6mqc3bChFmS",
        "outputId": "454ca65a-3894-4cd1-8675-9fab10781b70"
      },
      "execution_count": 15,
      "outputs": [
        {
          "output_type": "stream",
          "name": "stdout",
          "text": [
            "Enter the Radius of the circle in meters: 10\n",
            "The circumference of the circle is;  31.4159\n"
          ]
        }
      ]
    },
    {
      "cell_type": "code",
      "source": [
        "# Take the side of the rectangular and print the perimeter\n",
        "Sides = int(input(\"Enter the side of the rectangular:\"))\n",
        "perimeter = 4*Sides\n",
        "print( \"The perimeter of the Rectangular is: \", perimeter)"
      ],
      "metadata": {
        "colab": {
          "base_uri": "https://localhost:8080/"
        },
        "id": "0KZYgg4DhwGy",
        "outputId": "c7c7c3ea-e5c3-40a8-f6e5-a670e006c8e0"
      },
      "execution_count": 16,
      "outputs": [
        {
          "output_type": "stream",
          "name": "stdout",
          "text": [
            "Enter the side of the rectangular:4\n",
            "The perimeter of the Rectangular is:  16\n"
          ]
        }
      ]
    },
    {
      "cell_type": "code",
      "source": [
        "\n",
        "   # Taken string and print the upper case\n",
        "   Text = input(\"enter the text: \")\n",
        "   print(Text.upper())\n",
        "\n"
      ],
      "metadata": {
        "colab": {
          "base_uri": "https://localhost:8080/"
        },
        "id": "S1frN0m6iv4X",
        "outputId": "a17f6e1b-7fa2-4f18-86a5-8fb5973f4dfc"
      },
      "execution_count": 18,
      "outputs": [
        {
          "output_type": "stream",
          "name": "stdout",
          "text": [
            "enter the text: I am strong\n",
            "I AM STRONG\n"
          ]
        }
      ]
    },
    {
      "cell_type": "code",
      "source": [
        "# string and print it in lowercase\n",
        "name = input(\"enter the name: \")\n",
        "print(name.lower())"
      ],
      "metadata": {
        "colab": {
          "base_uri": "https://localhost:8080/"
        },
        "id": "M232atehmLcN",
        "outputId": "211902c5-dcd9-41cd-b2e1-43f67a3c519d"
      },
      "execution_count": 20,
      "outputs": [
        {
          "output_type": "stream",
          "name": "stdout",
          "text": [
            "enter the name: I AM WIN\n",
            "i am win\n"
          ]
        }
      ]
    },
    {
      "cell_type": "code",
      "source": [
        "# take string and print its length\n",
        "Text = input(\"enter a string: \")\n",
        "print( \"length of the string : len(text)\")"
      ],
      "metadata": {
        "colab": {
          "base_uri": "https://localhost:8080/"
        },
        "id": "ROz7tkvam3ZW",
        "outputId": "56ecddbf-3914-47ef-e414-b139e902a4a1"
      },
      "execution_count": 21,
      "outputs": [
        {
          "output_type": "stream",
          "name": "stdout",
          "text": [
            "enter a string: python\n",
            "length of the string : len(text)\n"
          ]
        }
      ]
    },
    {
      "cell_type": "code",
      "source": [
        "# take a string & print it twice in single line\n",
        "Text = input(\"enter a name: \")\n",
        "print(Text * 2)\n"
      ],
      "metadata": {
        "colab": {
          "base_uri": "https://localhost:8080/"
        },
        "id": "jgEqeTtjnhPO",
        "outputId": "c3dccf5e-8448-4e26-cd0f-11694bc9dd5e"
      },
      "execution_count": 28,
      "outputs": [
        {
          "output_type": "stream",
          "name": "stdout",
          "text": [
            "enter a name: pavitra\n",
            "pavitrapavitra\n"
          ]
        }
      ]
    },
    {
      "cell_type": "code",
      "source": [
        "\n",
        "# Take the first name and last name seperatly, then print the full name\n",
        "first_name = input(\"enter the first name: \")\n",
        "last_name = input(\"enter the last name: \")\n",
        "Full_name =( first_name + \" \" + last_name)\n",
        "print(Full_name)"
      ],
      "metadata": {
        "colab": {
          "base_uri": "https://localhost:8080/"
        },
        "id": "z9S2V8WwsyAN",
        "outputId": "29548013-5e7f-41a2-dd11-3ab81b87e8b4"
      },
      "execution_count": 29,
      "outputs": [
        {
          "output_type": "stream",
          "name": "stdout",
          "text": [
            "enter the first name: pavitra\n",
            "enter the last name: Laddi\n",
            "pavitra Laddi\n"
          ]
        }
      ]
    },
    {
      "cell_type": "code",
      "source": [
        "# Take the tempreture in celisius and convert in to fahrenheit\n",
        "celsius = float(input( \"Enter the temputrure in celsius: \"))\n",
        "fahrenheit = (celsius * 9/5) + 32\n",
        "print(\"Tempreture in fahrenheit : \", fahrenheit)\n",
        "\n"
      ],
      "metadata": {
        "colab": {
          "base_uri": "https://localhost:8080/"
        },
        "id": "F1SCx4egth6P",
        "outputId": "d226d5a0-31e5-4d87-b24e-0c9c9a46170f"
      },
      "execution_count": 30,
      "outputs": [
        {
          "output_type": "stream",
          "name": "stdout",
          "text": [
            "Enter the temputrure in celsius: 40\n",
            "Tempreture in fahrenheit :  104.0\n"
          ]
        }
      ]
    },
    {
      "cell_type": "code",
      "source": [
        "# Take wiegth in kilogram and convert in to pounds\n",
        "kilogram = float( input(\"enter the weight in kilogram: \"))\n",
        "pounds = kilogram * 2.2046\n",
        "print(\"Weight in pounds: \", pounds)\n"
      ],
      "metadata": {
        "colab": {
          "base_uri": "https://localhost:8080/"
        },
        "id": "MNlOdG3fvOzm",
        "outputId": "b47ea8c9-c26e-4dfb-e805-cd0519228bb6"
      },
      "execution_count": 32,
      "outputs": [
        {
          "output_type": "stream",
          "name": "stdout",
          "text": [
            "enter the weight in kilogram: 5\n",
            "Weight in pounds:  11.023\n"
          ]
        }
      ]
    },
    {
      "cell_type": "code",
      "source": [],
      "metadata": {
        "id": "-QIjGjX4v9Dh"
      },
      "execution_count": null,
      "outputs": []
    }
  ]
}